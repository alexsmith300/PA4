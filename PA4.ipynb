{
 "cells": [
  {
   "cell_type": "markdown",
   "id": "70ad1a02",
   "metadata": {},
   "source": [
    "### Alex Smith\n",
    "### PA4\n",
    "### Fall 2021"
   ]
  },
  {
   "cell_type": "markdown",
   "id": "2491e208",
   "metadata": {},
   "source": [
    "## Append()\n",
    "The append method takes an item (number, list, string, etc.) and adds it to the end of a list"
   ]
  },
  {
   "cell_type": "code",
   "execution_count": 1,
   "id": "bd887312",
   "metadata": {},
   "outputs": [
    {
     "name": "stdout",
     "output_type": "stream",
     "text": [
      "['cat', 'dog', 'bunny', 'frog']\n"
     ]
    }
   ],
   "source": [
    "animals = ['cat', 'dog', 'bunny']\n",
    "animals.append('frog')\n",
    "print(animals)"
   ]
  },
  {
   "cell_type": "markdown",
   "id": "4f7bdabb",
   "metadata": {},
   "source": [
    "## Extend()\n",
    "The extend method adds elements of an iterable (list, string, tuple, etc.) to the end of a list."
   ]
  },
  {
   "cell_type": "code",
   "execution_count": 4,
   "id": "5a729d99",
   "metadata": {},
   "outputs": [
    {
     "name": "stdout",
     "output_type": "stream",
     "text": [
      "[2, 4, 6, 1, 3, 5]\n"
     ]
    }
   ],
   "source": [
    "odd_numbers = [1, 3, 5]\n",
    "even_numbers = [2, 4, 6]\n",
    "even_numbers.extend(odd_numbers)\n",
    "print(even_numbers)"
   ]
  },
  {
   "cell_type": "markdown",
   "id": "0de88a74",
   "metadata": {},
   "source": [
    "## Insert()\n",
    "The insert method inserts an element to the list at the specified index."
   ]
  },
  {
   "cell_type": "code",
   "execution_count": 5,
   "id": "de945d1e",
   "metadata": {},
   "outputs": [
    {
     "name": "stdout",
     "output_type": "stream",
     "text": [
      "['Blue', 'Red', 'Purple', 'Yellow']\n"
     ]
    }
   ],
   "source": [
    "color = ['Blue', 'Red', 'Yellow']\n",
    "color.insert(2, 'Purple')\n",
    "print(color)"
   ]
  },
  {
   "cell_type": "markdown",
   "id": "98520be4",
   "metadata": {},
   "source": [
    "## Remove()\n",
    "The remove method removes the first matching element (which is passed as an argument) from the list."
   ]
  },
  {
   "cell_type": "code",
   "execution_count": 7,
   "id": "05e9f2d9",
   "metadata": {},
   "outputs": [
    {
     "name": "stdout",
     "output_type": "stream",
     "text": [
      "['cat', 'bunny']\n"
     ]
    }
   ],
   "source": [
    "animals = ['cat', 'dog', 'bunny']\n",
    "animals.remove('dog')\n",
    "print(animals)"
   ]
  },
  {
   "cell_type": "markdown",
   "id": "94d023fb",
   "metadata": {},
   "source": [
    "## Count()\n",
    "The count method returns the number of times the specified element appears in the list."
   ]
  },
  {
   "cell_type": "code",
   "execution_count": 8,
   "id": "e7c6a6a6",
   "metadata": {},
   "outputs": [
    {
     "name": "stdout",
     "output_type": "stream",
     "text": [
      "3\n"
     ]
    }
   ],
   "source": [
    "numbers = [1, 2, 3, 4, 5, 1, 1, 3, 4]\n",
    "count = numbers.count(1)\n",
    "print(count)"
   ]
  },
  {
   "cell_type": "markdown",
   "id": "08590924",
   "metadata": {},
   "source": [
    "## Index()\n",
    "The index method returns the index of the specified element in the list."
   ]
  },
  {
   "cell_type": "code",
   "execution_count": 9,
   "id": "80ea2c1c",
   "metadata": {},
   "outputs": [
    {
     "name": "stdout",
     "output_type": "stream",
     "text": [
      "0\n"
     ]
    }
   ],
   "source": [
    "animals = ['cat', 'dog', 'bunny']\n",
    "index = animals.index('cat')\n",
    "print(index)"
   ]
  },
  {
   "cell_type": "markdown",
   "id": "8733d6b4",
   "metadata": {},
   "source": [
    "## Pop()\n",
    "The pop method removes the item at the given index from the list and returns the removed item."
   ]
  },
  {
   "cell_type": "code",
   "execution_count": 10,
   "id": "caea46b8",
   "metadata": {},
   "outputs": [
    {
     "name": "stdout",
     "output_type": "stream",
     "text": [
      "3\n"
     ]
    }
   ],
   "source": [
    "numbers = [1, 2, 3, 4, 5]\n",
    "remove_number = numbers.pop(2)\n",
    "print(remove_number)"
   ]
  },
  {
   "cell_type": "markdown",
   "id": "463edfa1",
   "metadata": {},
   "source": [
    "## Sorted()\n",
    "The sorted method sorts elements of a given list in a specific ascending or descending order."
   ]
  },
  {
   "cell_type": "code",
   "execution_count": 11,
   "id": "575ca628",
   "metadata": {},
   "outputs": [
    {
     "name": "stdout",
     "output_type": "stream",
     "text": [
      "[1, 2, 3, 4, 5]\n"
     ]
    }
   ],
   "source": [
    "numbers = [1, 3, 2, 5, 4]\n",
    "numbers.sort()\n",
    "print(numbers)"
   ]
  },
  {
   "cell_type": "markdown",
   "id": "bdc95c99",
   "metadata": {},
   "source": [
    "## Copy()\n",
    "The copy method returns a shallow copy of the list."
   ]
  },
  {
   "cell_type": "code",
   "execution_count": 12,
   "id": "56c1b266",
   "metadata": {},
   "outputs": [
    {
     "name": "stdout",
     "output_type": "stream",
     "text": [
      "['Blue', 'Yellow', 'Red']\n"
     ]
    }
   ],
   "source": [
    "colors = ['Blue', 'Yellow', 'Red']\n",
    "favorite_colors = colors.copy()\n",
    "print(favorite_colors)"
   ]
  },
  {
   "cell_type": "markdown",
   "id": "2cadfcd2",
   "metadata": {},
   "source": [
    "## Clear()\n",
    "The clear method removes all items from the list."
   ]
  },
  {
   "cell_type": "code",
   "execution_count": 13,
   "id": "6b26d09b",
   "metadata": {},
   "outputs": [
    {
     "name": "stdout",
     "output_type": "stream",
     "text": [
      "[]\n"
     ]
    }
   ],
   "source": [
    "colors = ['Blue', 'Yellow', 'Red']\n",
    "colors.clear()\n",
    "print(colors)"
   ]
  },
  {
   "cell_type": "markdown",
   "id": "e724dc8d",
   "metadata": {},
   "source": [
    "## Any()\n",
    "The any method function returns true if any element of an iterable is true. If not, it returns false."
   ]
  },
  {
   "cell_type": "code",
   "execution_count": 14,
   "id": "65f6fafc",
   "metadata": {},
   "outputs": [
    {
     "name": "stdout",
     "output_type": "stream",
     "text": [
      "True\n"
     ]
    }
   ],
   "source": [
    "list = ['True', 'True', 'False']\n",
    "result = any(list)\n",
    "print(result)"
   ]
  },
  {
   "cell_type": "markdown",
   "id": "0a20dbcb",
   "metadata": {},
   "source": [
    "## Filter()\n",
    "The filter function extracts elements from an iterable (list, tuple, etc.) for which a function returns true."
   ]
  },
  {
   "cell_type": "code",
   "execution_count": 19,
   "id": "b7431ea2",
   "metadata": {},
   "outputs": [
    {
     "name": "stdout",
     "output_type": "stream",
     "text": [
      "25\n",
      "30\n",
      "24\n",
      "21\n"
     ]
    }
   ],
   "source": [
    "ages = [10, 25, 30, 24, 21]\n",
    "\n",
    "def function(x):\n",
    "    if x>18:\n",
    "        return True\n",
    "    else:\n",
    "        return False\n",
    "    \n",
    "adults = filter(function, ages)\n",
    "    \n",
    "for x in adults:\n",
    "    print(x)"
   ]
  },
  {
   "cell_type": "markdown",
   "id": "daf545e3",
   "metadata": {},
   "source": [
    "## List()\n",
    "The list constructor returns a list in Python."
   ]
  },
  {
   "cell_type": "code",
   "execution_count": 28,
   "id": "5ba29520",
   "metadata": {},
   "outputs": [
    {
     "name": "stdout",
     "output_type": "stream",
     "text": [
      "Alex\n"
     ]
    }
   ],
   "source": [
    "name = ('Alex')\n",
    "print(name)"
   ]
  },
  {
   "cell_type": "markdown",
   "id": "2c3bbf63",
   "metadata": {},
   "source": [
    "## Map()\n",
    "The map function applies a given function to each item of an iterable (list, tuple, etc.) and returns an iterator."
   ]
  },
  {
   "cell_type": "code",
   "execution_count": 30,
   "id": "f2c12eff",
   "metadata": {},
   "outputs": [
    {
     "name": "stdout",
     "output_type": "stream",
     "text": [
      "[1, 4, 9, 16, 25]\n"
     ]
    }
   ],
   "source": [
    "numbers = [1, 2, 3, 4, 5]\n",
    "squared = []\n",
    "\n",
    "for num in numbers:\n",
    "    squared.append(num ** 2)\n",
    "    \n",
    "print(squared)"
   ]
  },
  {
   "cell_type": "markdown",
   "id": "76ce4719",
   "metadata": {},
   "source": [
    "## CMP()\n",
    "The CMP method compares two integers and returns -1, 0, 1 according to comparison. THIS METHOD DOES NOT WORK IN PYTHON 3!!"
   ]
  },
  {
   "cell_type": "markdown",
   "id": "fc5db97b",
   "metadata": {},
   "source": [
    "## Len()\n",
    "The len function returns the number of items in an object."
   ]
  },
  {
   "cell_type": "code",
   "execution_count": 1,
   "id": "9e40fdd9",
   "metadata": {},
   "outputs": [
    {
     "name": "stdout",
     "output_type": "stream",
     "text": [
      "3\n"
     ]
    }
   ],
   "source": [
    "colors = ['Blue', 'Red', 'Green']\n",
    "length = len(colors)\n",
    "print(length)"
   ]
  },
  {
   "cell_type": "markdown",
   "id": "001bc6be",
   "metadata": {},
   "source": [
    "## Max()\n",
    "The max function returns the largest item in an iterable. It can also be used to find the largest between two or more parameters."
   ]
  },
  {
   "cell_type": "code",
   "execution_count": 2,
   "id": "437bffcf",
   "metadata": {},
   "outputs": [
    {
     "name": "stdout",
     "output_type": "stream",
     "text": [
      "99\n"
     ]
    }
   ],
   "source": [
    "numbers = [12,24,15,32,99]\n",
    "max_number = max(numbers)\n",
    "print(max_number)"
   ]
  },
  {
   "cell_type": "markdown",
   "id": "17a8c0de",
   "metadata": {},
   "source": [
    "## Tuple(seq)\n",
    "The tuple method converts a sequence list of items into tuples."
   ]
  },
  {
   "cell_type": "code",
   "execution_count": 3,
   "id": "a43c8481",
   "metadata": {},
   "outputs": [
    {
     "name": "stdout",
     "output_type": "stream",
     "text": [
      "('Blue', 'Black', 'Green')\n"
     ]
    }
   ],
   "source": [
    "list = ['Blue', 'Black', 'Green']\n",
    "tuple1 = tuple(list)\n",
    "print(tuple1)"
   ]
  }
 ],
 "metadata": {
  "kernelspec": {
   "display_name": "Python 3",
   "language": "python",
   "name": "python3"
  },
  "language_info": {
   "codemirror_mode": {
    "name": "ipython",
    "version": 3
   },
   "file_extension": ".py",
   "mimetype": "text/x-python",
   "name": "python",
   "nbconvert_exporter": "python",
   "pygments_lexer": "ipython3",
   "version": "3.8.8"
  }
 },
 "nbformat": 4,
 "nbformat_minor": 5
}
